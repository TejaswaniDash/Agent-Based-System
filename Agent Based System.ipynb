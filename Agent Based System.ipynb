{
 "cells": [
  {
   "cell_type": "code",
   "execution_count": 1,
   "metadata": {},
   "outputs": [],
   "source": [
    "from mesa import Agent, Model\n",
    "\n"
   ]
  },
  {
   "cell_type": "code",
   "execution_count": 7,
   "metadata": {},
   "outputs": [],
   "source": [
    "class MoneyAgent(Agent):\n",
    "    \"\"\"An agent with fixed initial wealth.\"\"\"\n",
    "    def __init__(self, unique_id, model):\n",
    "        super().__init__(unique_id, model)\n",
    "        self.wealth = 1\n",
    "        \n",
    "    def step(self):\n",
    "        # The agent's step will go here.\n",
    "        # For demonstration purposes we will print the agent's unique_id\n",
    "        print ( str(self.unique_id) + \"wealth\" + str(self.wealth))  \n",
    "        if self.wealth > 0:\n",
    "            other_agent = self.random.choice(self.model.schedule.agents)\n",
    "            other_agent.wealth += 1\n",
    "            self.wealth -= 1"
   ]
  },
  {
   "cell_type": "code",
   "execution_count": 8,
   "metadata": {},
   "outputs": [],
   "source": [
    "from mesa.time import RandomActivation"
   ]
  },
  {
   "cell_type": "code",
   "execution_count": 9,
   "metadata": {},
   "outputs": [],
   "source": [
    "class MoneyModel(Model):\n",
    "    \"\"\"A model with some number of agents.\"\"\"\n",
    "    def __init__(self, N):\n",
    "        self.num_agents = N\n",
    "        self.schedule = RandomActivation(self)\n",
    "        # Create agents\n",
    "        for i in range(self.num_agents):\n",
    "            a = MoneyAgent(i, self)\n",
    "            self.schedule.add(a)\n",
    "\n",
    "    def step(self):\n",
    "        '''Advance the model by one step.'''\n",
    "        self.schedule.step()"
   ]
  },
  {
   "cell_type": "code",
   "execution_count": 10,
   "metadata": {},
   "outputs": [],
   "source": [
    "m=MoneyModel(10)"
   ]
  },
  {
   "cell_type": "code",
   "execution_count": 12,
   "metadata": {},
   "outputs": [
    {
     "name": "stdout",
     "output_type": "stream",
     "text": [
      "8wealth1\n",
      "3wealth1\n",
      "2wealth0\n",
      "6wealth1\n",
      "5wealth2\n",
      "0wealth1\n",
      "7wealth2\n",
      "9wealth0\n",
      "4wealth4\n",
      "1wealth2\n",
      "0wealth0\n",
      "9wealth0\n",
      "3wealth1\n",
      "2wealth0\n",
      "8wealth0\n",
      "4wealth3\n",
      "1wealth1\n",
      "5wealth4\n",
      "6wealth1\n",
      "7wealth2\n",
      "6wealth0\n",
      "3wealth1\n",
      "0wealth0\n",
      "4wealth2\n",
      "8wealth3\n",
      "1wealth1\n",
      "5wealth3\n",
      "7wealth2\n",
      "9wealth1\n",
      "2wealth1\n",
      "5wealth3\n",
      "3wealth0\n",
      "4wealth3\n",
      "7wealth2\n",
      "6wealth1\n",
      "0wealth1\n",
      "1wealth0\n",
      "9wealth1\n",
      "8wealth3\n",
      "2wealth1\n",
      "7wealth1\n",
      "4wealth4\n",
      "3wealth1\n",
      "9wealth0\n",
      "6wealth1\n",
      "5wealth2\n",
      "1wealth3\n",
      "8wealth2\n",
      "0wealth0\n",
      "2wealth0\n",
      "6wealth0\n",
      "3wealth0\n",
      "9wealth1\n",
      "7wealth0\n",
      "5wealth1\n",
      "4wealth5\n",
      "2wealth1\n",
      "8wealth1\n",
      "0wealth0\n",
      "1wealth3\n",
      "8wealth0\n",
      "4wealth4\n",
      "3wealth2\n",
      "7wealth1\n",
      "0wealth1\n",
      "6wealth1\n",
      "2wealth1\n",
      "5wealth1\n",
      "9wealth0\n",
      "1wealth2\n",
      "8wealth1\n",
      "0wealth1\n",
      "5wealth1\n",
      "9wealth0\n",
      "1wealth2\n",
      "4wealth5\n",
      "6wealth0\n",
      "7wealth0\n",
      "2wealth1\n",
      "3wealth3\n",
      "3wealth2\n",
      "2wealth0\n",
      "5wealth1\n",
      "7wealth0\n",
      "9wealth0\n",
      "0wealth0\n",
      "1wealth2\n",
      "4wealth4\n",
      "6wealth1\n",
      "8wealth1\n",
      "0wealth0\n",
      "7wealth1\n",
      "6wealth1\n",
      "2wealth1\n",
      "1wealth1\n",
      "3wealth2\n",
      "9wealth0\n",
      "8wealth2\n",
      "4wealth4\n",
      "5wealth1\n"
     ]
    }
   ],
   "source": [
    "for i in range(10):\n",
    "    m.step()"
   ]
  },
  {
   "cell_type": "code",
   "execution_count": null,
   "metadata": {},
   "outputs": [],
   "source": []
  }
 ],
 "metadata": {
  "kernelspec": {
   "display_name": "Python 3",
   "language": "python",
   "name": "python3"
  },
  "language_info": {
   "codemirror_mode": {
    "name": "ipython",
    "version": 3
   },
   "file_extension": ".py",
   "mimetype": "text/x-python",
   "name": "python",
   "nbconvert_exporter": "python",
   "pygments_lexer": "ipython3",
   "version": "3.8.5"
  }
 },
 "nbformat": 4,
 "nbformat_minor": 4
}
